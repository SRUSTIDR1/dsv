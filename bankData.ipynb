{
 "cells": [
  {
   "cell_type": "code",
   "execution_count": 1,
   "id": "120ba609-10bb-4557-904c-900969ae31dd",
   "metadata": {},
   "outputs": [],
   "source": [
    "import pyspark\n",
    "from pyspark.sql import SparkSession\n",
    "spark=SparkSession.builder.appName('Dataset').getOrCreate()"
   ]
  },
  {
   "cell_type": "code",
   "execution_count": 2,
   "id": "8887973c-1003-4fb0-b9e6-c8c57f558673",
   "metadata": {},
   "outputs": [],
   "source": [
    "from pyspark.sql.functions import *\n",
    "from pyspark.sql.types import *\n",
    "import time\n",
    "from datetime import datetime\n",
    "import json\n",
    "import random"
   ]
  },
  {
   "cell_type": "code",
   "execution_count": 3,
   "id": "ee43f45b-5255-4ea5-9fde-7cb977c93ee4",
   "metadata": {},
   "outputs": [],
   "source": [
    "def generate_accNo():\n",
    "    accNo =[]\n",
    "    for accno in range(241047001, 241048000):\n",
    "        accNo.append(accno)\n",
    "    return accNo"
   ]
  },
  {
   "cell_type": "code",
   "execution_count": 8,
   "id": "9ae18823-9866-41c1-9750-f2b4bc534dc7",
   "metadata": {},
   "outputs": [],
   "source": [
    "def generate_transaction():\n",
    "    accNo = generate_accNo()\n",
    "    trans_type = ['C', 'D']\n",
    "\n",
    "    count = 20\n",
    "    for x in range(0, 10):\n",
    "        data = {}\n",
    "        readings = []\n",
    "        for iter in range(0, 10):\n",
    "            for i in range(0, 20):\n",
    "                data['Acc No'] = accNo[random.randint(0,998)]\n",
    "                data['Transaction'] = trans_type[random.randint(0,1)]\n",
    "                data['Time Stamp'] = str(datetime.now())\n",
    "                data['Amount'] = random.randint(1,100000)\n",
    "                readings.append(data.copy())\n",
    "            time.sleep(1)\n",
    "        fname = 'trans'+str(count)+'.json'\n",
    "        files = open('./data/'+fname, 'w')\n",
    "        files.write(json.dumps(readings))\n",
    "        files.close()\n",
    "        count += 1"
   ]
  },
  {
   "cell_type": "code",
   "execution_count": 9,
   "id": "b2346714-5562-4432-9859-93eb720906a7",
   "metadata": {},
   "outputs": [],
   "source": [
    "generate_transaction()"
   ]
  },
  {
   "cell_type": "code",
   "execution_count": null,
   "id": "f71dc3c8-3257-4ae3-8e33-6f84e9bc2ddd",
   "metadata": {},
   "outputs": [],
   "source": [
    "acc = generate_accNo()\n",
    "\n",
    "acc[random.randint(0,998)]"
   ]
  },
  {
   "cell_type": "code",
   "execution_count": null,
   "id": "c2453569-28ca-497d-8524-4bf3c1a83c65",
   "metadata": {},
   "outputs": [],
   "source": []
  }
 ],
 "metadata": {
  "kernelspec": {
   "display_name": "Python 3 (ipykernel)",
   "language": "python",
   "name": "python3"
  },
  "language_info": {
   "codemirror_mode": {
    "name": "ipython",
    "version": 3
   },
   "file_extension": ".py",
   "mimetype": "text/x-python",
   "name": "python",
   "nbconvert_exporter": "python",
   "pygments_lexer": "ipython3",
   "version": "3.8.10"
  }
 },
 "nbformat": 4,
 "nbformat_minor": 5
}
